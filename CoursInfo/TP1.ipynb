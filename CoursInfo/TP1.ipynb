{
 "cells": [
  {
   "cell_type": "markdown",
   "id": "191d6051-9a06-4361-b743-84788cf594fc",
   "metadata": {},
   "source": [
    "# TP 1 Boucles, recherche linéaire, listes et dictionnaires"
   ]
  },
  {
   "cell_type": "markdown",
   "id": "54f9aae7-0045-4ab9-942b-2f15799f63c9",
   "metadata": {},
   "source": [
    "### Exercice 1 : Recherche d'un élément dans une liste.  \n",
    "Écrire une fonction Python intitulée recherche_lineaire qui prend en entrée un tableau d'entiers\n",
    "tab et un entier e et renvoie True si l'entier e est présent dans le tableau et False sinon.\n",
    "\n",
    "***Exemples :***  \n",
    "\\>>> tab = [5,3,9,10]  \n",
    "\\>>> e = 1  \n",
    "\\>>> recherche_lineaire(tab,e)  \n",
    "False  \n",
    "\\>>> tab = [5,3,9,10]  \n",
    "\\>>> e = 9  \n",
    "\\>>> recherche_lineaire(tab,e)  \n",
    "True  "
   ]
  },
  {
   "cell_type": "code",
   "execution_count": null,
   "id": "aa4e1a80-5a97-431e-8e4f-4caaba2140b9",
   "metadata": {},
   "outputs": [],
   "source": []
  },
  {
   "cell_type": "markdown",
   "id": "9df6a15d-f63c-4535-ae97-761c62e6cca9",
   "metadata": {},
   "source": [
    "### Exercice 2 : Recherche d'un élément dans une liste et renvoi de l'indice de la première occurence de cet élément\n",
    "Écrire une fonction Python intitulée recherche_lineaire2 qui prend en entrée un tableau d'entiers tab et un entier e et renvoie l'indice de la première occurence de cet entier s'il est présent dans le tableau et -1 sinon.  \n",
    "\n",
    "***Exemples :***    \n",
    "\\>>> tab = [5,3,9,10]  \n",
    "\\>>> e = 1  \n",
    "\\>>> recherche_lineaire2(tab,e)  \n",
    "-1  \n",
    "\\>>> tab = [5,3,9,10]  \n",
    "\\>>> e = 9  \n",
    "\\>>> recherche_lineaire2(tab,e)  \n",
    "2  \n",
    "\\>>> tab = [3,10,11,10]  \n",
    "\\>>> e = 10  \n",
    "\\>>> recherche_lineaire2(tab,e)  \n",
    "1 "
   ]
  },
  {
   "cell_type": "code",
   "execution_count": null,
   "id": "5fad5fb3-59c8-4b08-80f6-5c8b3ed4ce82",
   "metadata": {},
   "outputs": [],
   "source": []
  },
  {
   "cell_type": "markdown",
   "id": "2d0801c4-6fdc-4a96-868d-0a984c2136a9",
   "metadata": {},
   "source": [
    "### Exercice 3 : Recherche du plus grand élément d'une liste et renvoi de la valeur de ce maximum\n",
    "\n",
    "Écrire la fonction maximum_tableau, prenant en paramètre un tableau non vide de nombres tab (de type list) et renvoyant le plus grand élément de ce tableau.  \n",
    "***Exemples :***   \n",
    "\\>>> maximum_tableau([98, 12, 104, 23, 131, 9])  \n",
    "131  \n",
    "\\>>> maximum_tableau([-27, 24, -3, 15])  \n",
    "24  \n"
   ]
  },
  {
   "cell_type": "code",
   "execution_count": null,
   "id": "60e466ac-ba19-4f22-96cb-709ebaa908c5",
   "metadata": {},
   "outputs": [],
   "source": []
  },
  {
   "cell_type": "markdown",
   "id": "1df339cf-991a-4ee0-b319-9384cf089c88",
   "metadata": {},
   "source": [
    "### Exercice 4 : Recherche du plus grand élément d'une liste et renvoi de la valeur et de l'indice de la première occurence du maximum\n",
    "\n",
    "Écrire une fonction max_et_indice qui prend en paramètre un tableau non vide tab (type Python list) de nombres entiers et qui renvoie la valeur du plus grand élément de ce tableau ainsi que l’indice de sa première apparition dans ce tableau.  \n",
    "L’utilisation de la fonction native max n’est pas autorisée.  \n",
    "***Exemples :***      \n",
    "\\>>> max_et_indice([1, 5, 6, 9, 1, 2, 3, 7, 9, 8])  \n",
    "(9, 3)  \n",
    "\\>>> max_et_indice([-2])  \n",
    "(-2, 0)  \n",
    "\\>>> max_et_indice([-1, -1, 3, 3, 3])  \n",
    "(3, 2)  \n",
    "\\>>> max_et_indice([1, 1, 1, 1])  \n",
    "(1, 0)  "
   ]
  },
  {
   "cell_type": "code",
   "execution_count": null,
   "id": "53589397-971e-4c6b-8494-7a3e08745d98",
   "metadata": {},
   "outputs": [],
   "source": []
  },
  {
   "cell_type": "markdown",
   "id": "72db97c6-cfa6-4c57-b197-35fe9cdd2c7c",
   "metadata": {},
   "source": [
    "### Exercice 5 \n",
    "Écrire une fonction indices_maxi qui prend en paramètre un tableau non vide de nombre entiers tab, représenté par une liste Python et qui renvoie un tuple (maxi, indices) où :  \n",
    "• maxi est le plus grand élément du tableau tab ;  \n",
    "• indices est une liste Python contenant les indices du tableau tab où apparaît ce plus grand élément.  \n",
    "Exemple :  \n",
    "\\>>> indices_maxi([1, 5, 6, 9, 1, 2, 3, 7, 9, 8])  \n",
    "(9, [3, 8])  \n",
    "\\>>> indices_maxi([7])  \n",
    "(7, [0])  "
   ]
  },
  {
   "cell_type": "code",
   "execution_count": null,
   "id": "87fd3f11-191d-48c4-ac5d-de85fe2c617d",
   "metadata": {},
   "outputs": [],
   "source": []
  },
  {
   "cell_type": "markdown",
   "id": "b9051215-cfc9-4497-841e-5fc7b6d47f0e",
   "metadata": {
    "jp-MarkdownHeadingCollapsed": true
   },
   "source": [
    "### Exercice 6  : Recherche du second maximum\n",
    "Écrire une fonction second_maximum qui prend en paramètre un tableau de nombres entiers tab comportant au moins 2 éléments (type Python list) et qui renvoie le deuxième plus grand élément du tableau. On supposera tous les éléments du tableau différents pour simplifier.  \n",
    "***Exemples :***  \n",
    "\\>>>> second_maximum([8,7,15,13,10,17])  \n",
    "15  \n",
    "\\>>>> second_maximum([8,7,5,3,10,1])  \n",
    "8  \n",
    "\\>>> second_maximum([2, 1])  \n",
    "1\n"
   ]
  },
  {
   "cell_type": "code",
   "execution_count": null,
   "id": "abb3617e-6bba-4eb9-b487-36c741f5a95b",
   "metadata": {},
   "outputs": [],
   "source": []
  },
  {
   "cell_type": "markdown",
   "id": "2ac9b472-619f-4b7a-b1e3-5268adf127f0",
   "metadata": {},
   "source": [
    "### Exercice 7 : Comptage des éléments d’un tableau à l’aide d’un dictionnaire  \n",
    "Écrire une fonction dico_comptage qui prend en paramètre un tableau d'entiers tab (type Python list) et qui renvoie un dictionnaire dont les clés sont les entiers présents dans le tableau et les valeurs leurs nombres d'occurences dans le tableau.  \n",
    "***Exemples :***  \n",
    "\\>>> dico_comptage([5,5])  \n",
    "{ 5 : 2 }  \n",
    "\\>>> dico_comptage([5,3,6,3,5,3,3])  \n",
    "{ 5 : 2 , 3 : 4 , 6 : 1 }  \n",
    "\\>>> dico_comptage([8,8,8,2,4,4,4,4])   \n",
    "{ 8 : 3, 2 : 1 , 4 : 4 }  \n",
    "\\>>>  "
   ]
  },
  {
   "cell_type": "code",
   "execution_count": null,
   "id": "bea9a91a-6e3f-4d51-afeb-d7240273eeec",
   "metadata": {},
   "outputs": [],
   "source": []
  },
  {
   "cell_type": "markdown",
   "id": "8ca4afd9-016a-4230-8bf6-f941da7e27e6",
   "metadata": {},
   "source": [
    "### Exercice 8 : Comptage d'occurences de caractère dans une chaîne à l'aide d'un dictionnaire\n",
    "Le nombre d’occurrences d’un caractère dans une chaîne de caractère est le nombre d’apparitions de ce caractère dans la chaîne.  \n",
    "***Exemples :***    \n",
    "• le nombre d’occurrences du caractère 'o' dans 'bonjour' est 2 ;  \n",
    "• le nombre d’occurrences du caractère 'b' dans 'Bébé' est 1 ;  \n",
    "• le nombre d’occurrences du caractère 'B' dans 'Bébé' est 1 ;  \n",
    "• le nombre d’occurrences du caractère ' ' dans 'Hello world !' est 2.  \n",
    "On cherche les occurrences des caractères dans une phrase. On souhaite stocker ces occurrences dans un dictionnaire dont les clefs seraient les caractères de la phrase et les valeurs l’occurrence de ces caractères.  \n",
    "Par exemple : avec la phrase 'Hello world !' le dictionnaire est le suivant :    \n",
    "{'H': 1,'e': 1,'l': 3,'o': 2,' ': 2,'w': 1,'r': 1,'d': 1,'!': 1}  \n",
    "L’ordre des clefs n’a pas d’importance.  \n",
    "Écrire une fonction nbr_occurrences prenant comme paramètre une chaîne de caractères chaine et renvoyant le dictionnaire des nombres d’occurrences des caractères de cette chaîne.  "
   ]
  },
  {
   "cell_type": "code",
   "execution_count": null,
   "id": "665a42f5-a11a-4280-a475-7bd26e92ba9d",
   "metadata": {},
   "outputs": [],
   "source": []
  },
  {
   "cell_type": "markdown",
   "id": "3acbab7e-ea0e-4bd6-9fae-a739da3bdeb1",
   "metadata": {},
   "source": [
    "### Exercice 9 : Dictionnaire des occurences des éléments d'une liste\n",
    "Écrire une fonction dico_occurences qui prend en paramètre un tableau d'entiers tab (type Python list) et qui renvoie un dictionnaire dont les clés sont les entiers présents dans le tableau, et pour chacune de ces clés, la valeur associée est la liste de tous les indices de ses occurences dans le tableau tab.  \n",
    "***Exemples :***  \n",
    "\\>>> dico_occurences([5,5])  \n",
    "{5 : [0,1]}  \n",
    "\\>>> dico_occurences([1,5,5,5])  \n",
    "{1 : [0], 5 : [1,2,3] }  \n",
    "\\>>> dico_occurences([3,3,7,5,2,5,3,4,7])  \n",
    "{3 : [0,1,6], 7 : [2,8], 5 : [3] , 2 : [4] , 4 : [7]}  \n",
    "\\>>>"
   ]
  },
  {
   "cell_type": "code",
   "execution_count": null,
   "id": "0b51e030-bcdb-4c0f-9eec-d32f1623a49c",
   "metadata": {},
   "outputs": [],
   "source": []
  },
  {
   "cell_type": "markdown",
   "id": "d200cf06-d8ea-4279-a608-7f2f3f781ed3",
   "metadata": {},
   "source": [
    "### Exercice 10 : Recherche d'un motif dans une chaîne\n",
    "Écrire une fonction recherche_motif qui prend en paramètre une chaîne de caractères motif non vide et une chaîne de caractères texte et qui renvoie la liste des positions de motif dans texte. Si motif n’apparaît pas, la fonction renvoie une liste vide.  \n",
    "***Exemples :***  \n",
    "\\>>> recherche_motif(\"ab\", \"\")  \n",
    "[]  \n",
    "\\>>> recherche_motif(\"ab\", \"cdcdcdcd\")  \n",
    "[]  \n",
    "\\>>> recherche_motif(\"ab\", \"abracadabra\")  \n",
    "[0, 7]  \n",
    "\\>>> recherche_motif(\"ab\", \"abracadabraab\")  \n",
    "[0, 7, 11]  "
   ]
  },
  {
   "cell_type": "code",
   "execution_count": null,
   "id": "a251a1a2-99da-4996-a222-2975f03a929a",
   "metadata": {},
   "outputs": [],
   "source": []
  }
 ],
 "metadata": {
  "kernelspec": {
   "display_name": "Python 3 (ipykernel)",
   "language": "python",
   "name": "python3"
  },
  "language_info": {
   "codemirror_mode": {
    "name": "ipython",
    "version": 3
   },
   "file_extension": ".py",
   "mimetype": "text/x-python",
   "name": "python",
   "nbconvert_exporter": "python",
   "pygments_lexer": "ipython3",
   "version": "3.13.5"
  }
 },
 "nbformat": 4,
 "nbformat_minor": 5
}
