{
 "cells": [
  {
   "cell_type": "code",
   "execution_count": null,
   "id": "09242ff1-eeee-490c-a051-63a5870f5837",
   "metadata": {},
   "outputs": [],
   "source": [
    "#Corrigé de l'exercice 1\n",
    "def recherche_lineaire(tab, e):\n",
    "    for v in tab:\n",
    "        if v == e:c\n",
    "            return True\n",
    "    return False"
   ]
  },
  {
   "cell_type": "code",
   "execution_count": null,
   "id": "8ef41abb-afe3-4a5c-8820-06f6ccfecbdc",
   "metadata": {},
   "outputs": [],
   "source": [
    "# Corrrigé exercice 2\n",
    "def recherche_lineaire2(tab, e):\n",
    "    n = len(tab)\n",
    "    for i in range(n):\n",
    "        if tab[i] == e:\n",
    "            return i \n",
    "    return -1"
   ]
  },
  {
   "cell_type": "code",
   "execution_count": null,
   "id": "33a1c8e1-1505-4020-85ab-3b6ea10cd74a",
   "metadata": {},
   "outputs": [],
   "source": []
  }
 ],
 "metadata": {
  "kernelspec": {
   "display_name": "Python 3 (ipykernel)",
   "language": "python",
   "name": "python3"
  },
  "language_info": {
   "codemirror_mode": {
    "name": "ipython",
    "version": 3
   },
   "file_extension": ".py",
   "mimetype": "text/x-python",
   "name": "python",
   "nbconvert_exporter": "python",
   "pygments_lexer": "ipython3",
   "version": "3.13.5"
  }
 },
 "nbformat": 4,
 "nbformat_minor": 5
}
